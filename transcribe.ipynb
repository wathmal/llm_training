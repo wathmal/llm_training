{
 "cells": [
  {
   "cell_type": "code",
   "id": "initial_id",
   "metadata": {
    "collapsed": true
   },
   "source": [
    "import torch\n",
    "from transformers import AutoModelForSpeechSeq2Seq, AutoProcessor, pipeline\n",
    "from datasets import load_dataset\n",
    "\n",
    "\n",
    "device = \"cuda:0\" if torch.cuda.is_available() else \"cpu\"\n",
    "print(f\"Using device: {device}\")\n"
   ],
   "outputs": [],
   "execution_count": null
  },
  {
   "metadata": {},
   "cell_type": "code",
   "source": [
    "torch_dtype = torch.float16 if torch.cuda.is_available() else torch.float32\n",
    "\n",
    "model_id = \"openai/whisper-large-v3\"\n",
    "\n",
    "model = AutoModelForSpeechSeq2Seq.from_pretrained(\n",
    "    model_id, torch_dtype=torch_dtype, low_cpu_mem_usage=True, use_safetensors=True\n",
    ")\n",
    "model.to(device)\n",
    "\n",
    "processor = AutoProcessor.from_pretrained(model_id)\n",
    "\n",
    "pipe = pipeline(\n",
    "    \"automatic-speech-recognition\",\n",
    "    model=model,\n",
    "    tokenizer=processor.tokenizer,\n",
    "    feature_extractor=processor.feature_extractor,\n",
    "    max_new_tokens=128,\n",
    "    chunk_length_s=30,\n",
    "    batch_size=16,\n",
    "    return_timestamps=True,\n",
    "    torch_dtype=torch_dtype,\n",
    "    device=device,\n",
    ")\n",
    "\n",
    "def transcribe_audio(audio_file):\n",
    "    result = pipe(audio_file)\n",
    "    return result[\"text\"]\n",
    "\n",
    "transcribe_audio(\"voice/squiz_complete.mp3\")"
   ],
   "id": "14f0c1b66c7c431b",
   "outputs": [],
   "execution_count": null
  },
  {
   "metadata": {},
   "cell_type": "code",
   "source": [
    "import sounddevice as sd\n",
    "import wavio as wv\n",
    "import threading\n",
    "from datetime import datetime\n",
    "\n",
    "def write_audio_file(filename, clip, freq):\n",
    "    wv.write(filename, clip, freq, sampwidth=2)\n",
    "\n",
    "def record_audio(filename, duration=15, freq=44100):\n",
    "    clip = sd.rec(int(duration * freq), samplerate=freq, channels=2)\n",
    "    # print(\"Recording Audio\")\n",
    "    sd.wait()\n",
    "    # Start a new thread for the wv.write operation\n",
    "    write_thread = threading.Thread(target=write_audio_file, args=(filename, clip, freq))\n",
    "    write_thread.start()\n",
    "    return write_thread\n",
    "\n",
    "def transcribe_in_thread(filename, write_thread):\n",
    "    write_thread.join()  # Wait for the audio file to be saved\n",
    "    transcription = transcribe_audio(filename)\n",
    "    print(transcription)\n",
    "\n",
    "# Main loop to record and transcribe forever\n",
    "try:\n",
    "    while True:\n",
    "        filename =  f\"voice/{datetime.now().strftime('%Y-%m-%d_%H-%M-%S')}.wav\"\n",
    "        write_thread = record_audio(filename, duration=5)\n",
    "        transcription_thread = threading.Thread(target=transcribe_in_thread, args=(filename, write_thread))\n",
    "        transcription_thread.start()\n",
    "except KeyboardInterrupt:\n",
    "    print(\"Program interrupted by user.\")"
   ],
   "id": "21a6a1069194db11",
   "outputs": [],
   "execution_count": null
  },
  {
   "metadata": {},
   "cell_type": "code",
   "source": "",
   "id": "9024bb9476f51f34",
   "outputs": [],
   "execution_count": null
  }
 ],
 "metadata": {
  "kernelspec": {
   "display_name": "Python 3",
   "language": "python",
   "name": "python3"
  },
  "language_info": {
   "codemirror_mode": {
    "name": "ipython",
    "version": 2
   },
   "file_extension": ".py",
   "mimetype": "text/x-python",
   "name": "python",
   "nbconvert_exporter": "python",
   "pygments_lexer": "ipython2",
   "version": "2.7.6"
  }
 },
 "nbformat": 4,
 "nbformat_minor": 5
}
